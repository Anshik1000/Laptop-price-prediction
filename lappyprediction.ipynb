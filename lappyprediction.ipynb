{
 "cells": [
  {
   "cell_type": "code",
   "execution_count": 1,
   "metadata": {},
   "outputs": [],
   "source": [
    "import numpy as np \n",
    "import pandas as pd \n",
    "from sklearn.model_selection import train_test_split"
   ]
  },
  {
   "cell_type": "code",
   "execution_count": 2,
   "metadata": {},
   "outputs": [],
   "source": [
    "Dataframe= pd.read_csv(\"data.csv\")"
   ]
  },
  {
   "cell_type": "code",
   "execution_count": 3,
   "metadata": {},
   "outputs": [],
   "source": [
    "X= Dataframe.drop([\"price\"],axis=\"columns\")\n",
    "y=Dataframe[\"price\"]\n",
    "dataset = pd.read_csv('Data.csv')\n",
    "from sklearn.compose import ColumnTransformer\n",
    "from sklearn.preprocessing import OneHotEncoder\n",
    "ct = ColumnTransformer(transformers=[('encoder', OneHotEncoder(), [\"brand\",\"name\",\"processor\",\"CPU\",\"Ram\",\"Ram_type\",\"ROM\",\"ROM_type\",\"GPU\",\"OS\"])], remainder='passthrough',sparse_threshold=0)\n",
    "X=np.array(ct.fit_transform(X))"
   ]
  },
  {
   "cell_type": "code",
   "execution_count": 4,
   "metadata": {},
   "outputs": [
    {
     "data": {
      "text/plain": [
       "array([[0.00e+00, 0.00e+00, 0.00e+00, ..., 1.92e+03, 1.08e+03, 1.00e+00],\n",
       "       [0.00e+00, 0.00e+00, 0.00e+00, ..., 1.92e+03, 1.08e+03, 1.00e+00],\n",
       "       [0.00e+00, 1.00e+00, 0.00e+00, ..., 1.92e+03, 1.08e+03, 1.00e+00],\n",
       "       ...,\n",
       "       [0.00e+00, 0.00e+00, 0.00e+00, ..., 2.56e+03, 1.60e+03, 1.00e+00],\n",
       "       [0.00e+00, 0.00e+00, 0.00e+00, ..., 1.92e+03, 1.08e+03, 1.00e+00],\n",
       "       [0.00e+00, 0.00e+00, 0.00e+00, ..., 1.92e+03, 1.08e+03, 1.00e+00]])"
      ]
     },
     "execution_count": 4,
     "metadata": {},
     "output_type": "execute_result"
    }
   ],
   "source": [
    "X"
   ]
  },
  {
   "cell_type": "code",
   "execution_count": 5,
   "metadata": {},
   "outputs": [
    {
     "data": {
      "text/plain": [
       "0       49900\n",
       "1       39900\n",
       "2       26990\n",
       "3       59729\n",
       "4       69990\n",
       "        ...  \n",
       "888     44990\n",
       "889    110000\n",
       "890    189990\n",
       "891    129990\n",
       "892    131990\n",
       "Name: price, Length: 893, dtype: int64"
      ]
     },
     "execution_count": 5,
     "metadata": {},
     "output_type": "execute_result"
    }
   ],
   "source": [
    "y"
   ]
  },
  {
   "cell_type": "code",
   "execution_count": 6,
   "metadata": {},
   "outputs": [],
   "source": [
    "X_train,X_test,y_train,y_test = train_test_split(X,y,test_size=0.2,random_state=0)"
   ]
  },
  {
   "cell_type": "code",
   "execution_count": 62,
   "metadata": {},
   "outputs": [
    {
     "data": {
      "text/html": [
       "<style>#sk-container-id-12 {color: black;}#sk-container-id-12 pre{padding: 0;}#sk-container-id-12 div.sk-toggleable {background-color: white;}#sk-container-id-12 label.sk-toggleable__label {cursor: pointer;display: block;width: 100%;margin-bottom: 0;padding: 0.3em;box-sizing: border-box;text-align: center;}#sk-container-id-12 label.sk-toggleable__label-arrow:before {content: \"▸\";float: left;margin-right: 0.25em;color: #696969;}#sk-container-id-12 label.sk-toggleable__label-arrow:hover:before {color: black;}#sk-container-id-12 div.sk-estimator:hover label.sk-toggleable__label-arrow:before {color: black;}#sk-container-id-12 div.sk-toggleable__content {max-height: 0;max-width: 0;overflow: hidden;text-align: left;background-color: #f0f8ff;}#sk-container-id-12 div.sk-toggleable__content pre {margin: 0.2em;color: black;border-radius: 0.25em;background-color: #f0f8ff;}#sk-container-id-12 input.sk-toggleable__control:checked~div.sk-toggleable__content {max-height: 200px;max-width: 100%;overflow: auto;}#sk-container-id-12 input.sk-toggleable__control:checked~label.sk-toggleable__label-arrow:before {content: \"▾\";}#sk-container-id-12 div.sk-estimator input.sk-toggleable__control:checked~label.sk-toggleable__label {background-color: #d4ebff;}#sk-container-id-12 div.sk-label input.sk-toggleable__control:checked~label.sk-toggleable__label {background-color: #d4ebff;}#sk-container-id-12 input.sk-hidden--visually {border: 0;clip: rect(1px 1px 1px 1px);clip: rect(1px, 1px, 1px, 1px);height: 1px;margin: -1px;overflow: hidden;padding: 0;position: absolute;width: 1px;}#sk-container-id-12 div.sk-estimator {font-family: monospace;background-color: #f0f8ff;border: 1px dotted black;border-radius: 0.25em;box-sizing: border-box;margin-bottom: 0.5em;}#sk-container-id-12 div.sk-estimator:hover {background-color: #d4ebff;}#sk-container-id-12 div.sk-parallel-item::after {content: \"\";width: 100%;border-bottom: 1px solid gray;flex-grow: 1;}#sk-container-id-12 div.sk-label:hover label.sk-toggleable__label {background-color: #d4ebff;}#sk-container-id-12 div.sk-serial::before {content: \"\";position: absolute;border-left: 1px solid gray;box-sizing: border-box;top: 0;bottom: 0;left: 50%;z-index: 0;}#sk-container-id-12 div.sk-serial {display: flex;flex-direction: column;align-items: center;background-color: white;padding-right: 0.2em;padding-left: 0.2em;position: relative;}#sk-container-id-12 div.sk-item {position: relative;z-index: 1;}#sk-container-id-12 div.sk-parallel {display: flex;align-items: stretch;justify-content: center;background-color: white;position: relative;}#sk-container-id-12 div.sk-item::before, #sk-container-id-12 div.sk-parallel-item::before {content: \"\";position: absolute;border-left: 1px solid gray;box-sizing: border-box;top: 0;bottom: 0;left: 50%;z-index: -1;}#sk-container-id-12 div.sk-parallel-item {display: flex;flex-direction: column;z-index: 1;position: relative;background-color: white;}#sk-container-id-12 div.sk-parallel-item:first-child::after {align-self: flex-end;width: 50%;}#sk-container-id-12 div.sk-parallel-item:last-child::after {align-self: flex-start;width: 50%;}#sk-container-id-12 div.sk-parallel-item:only-child::after {width: 0;}#sk-container-id-12 div.sk-dashed-wrapped {border: 1px dashed gray;margin: 0 0.4em 0.5em 0.4em;box-sizing: border-box;padding-bottom: 0.4em;background-color: white;}#sk-container-id-12 div.sk-label label {font-family: monospace;font-weight: bold;display: inline-block;line-height: 1.2em;}#sk-container-id-12 div.sk-label-container {text-align: center;}#sk-container-id-12 div.sk-container {/* jupyter's `normalize.less` sets `[hidden] { display: none; }` but bootstrap.min.css set `[hidden] { display: none !important; }` so we also need the `!important` here to be able to override the default hidden behavior on the sphinx rendered scikit-learn.org. See: https://github.com/scikit-learn/scikit-learn/issues/21755 */display: inline-block !important;position: relative;}#sk-container-id-12 div.sk-text-repr-fallback {display: none;}</style><div id=\"sk-container-id-12\" class=\"sk-top-container\"><div class=\"sk-text-repr-fallback\"><pre>RandomForestRegressor(n_estimators=24, random_state=0)</pre><b>In a Jupyter environment, please rerun this cell to show the HTML representation or trust the notebook. <br />On GitHub, the HTML representation is unable to render, please try loading this page with nbviewer.org.</b></div><div class=\"sk-container\" hidden><div class=\"sk-item\"><div class=\"sk-estimator sk-toggleable\"><input class=\"sk-toggleable__control sk-hidden--visually\" id=\"sk-estimator-id-12\" type=\"checkbox\" checked><label for=\"sk-estimator-id-12\" class=\"sk-toggleable__label sk-toggleable__label-arrow\">RandomForestRegressor</label><div class=\"sk-toggleable__content\"><pre>RandomForestRegressor(n_estimators=24, random_state=0)</pre></div></div></div></div></div>"
      ],
      "text/plain": [
       "RandomForestRegressor(n_estimators=24, random_state=0)"
      ]
     },
     "execution_count": 62,
     "metadata": {},
     "output_type": "execute_result"
    }
   ],
   "source": [
    "from sklearn.ensemble import RandomForestRegressor\n",
    "regressor = RandomForestRegressor(n_estimators = 24, random_state = 0)\n",
    "regressor.fit(X_train, y_train)\n"
   ]
  },
  {
   "cell_type": "code",
   "execution_count": 63,
   "metadata": {},
   "outputs": [],
   "source": [
    "y_pred = regressor.predict(X_test)"
   ]
  },
  {
   "cell_type": "code",
   "execution_count": 66,
   "metadata": {},
   "outputs": [
    {
     "name": "stdout",
     "output_type": "stream",
     "text": [
      "[ 22252.5  109940.25 101436.38 135619.9   34940.04  68628.46  65917.46\n",
      " 119899.83  64958.62  68669.12  69074.08  43854.    56286.17  53803.77\n",
      "  33102.46  33331.67  22927.5   87979.94  36495.46  81664.44  79282.08\n",
      "  78027.21 233838.88  64046.07  64404.92 109573.21  67098.62 218376.\n",
      " 115664.96  57359.17  37529.5   71641.17  53585.04  43659.01  71674.12\n",
      "  54263.62  64080.17  32072.75  47790.    92652.67 162006.21  68022.96\n",
      "  23697.42  37259.67  37801.67  23344.17  91763.02  53963.32  46229.75\n",
      "  73152.42 111855.75  69190.35  23927.79  88107.62  25623.62  70927.88\n",
      "  57495.29  73523.71  86959.08  34553.83  79294.79  22902.88 190010.71\n",
      "  49296.11  52257.04 169603.21  49674.67 158808.62  36986.12 116381.94\n",
      "  66294.54  57649.92 120103.12  58080.12  23990.    26374.12  35279.67\n",
      "  56205.54  40085.54 232668.54  34049.17  53033.54  85318.71  68774.08\n",
      "  41692.62  89714.    33914.26 157714.38  38922.54  52554.38  43037.83\n",
      "  50549.88  86380.42  61649.54  94922.88  33730.15  39786.14  54136.02\n",
      "  68558.29 112935.29  50549.88  27954.75  86432.5   76762.33  86167.71\n",
      "  38095.25 165852.33  37308.92  55705.92 123396.38 123883.12 254228.79\n",
      "  53460.44 104893.96  50741.58  88430.92  27954.75 100695.38  77717.5\n",
      " 259133.96  64192.46  54039.33  46311.78  99822.08  51292.   214874.33\n",
      "  63874.92  51825.46  31139.83  59965.29  53050.58 182696.54  37951.08\n",
      "  54534.08  22256.67  70804.67  38613.29  36814.5   76072.21 106131.92\n",
      "  77656.67  31012.42  64548.27  89383.96  68067.42  77302.04  48464.38\n",
      "  30947.21  44220.39 119104.94  93841.79  75516.29 220273.46 107676.12\n",
      "  52892.79  68277.92 106815.5   87282.08  36637.21  65029.79  91863.17\n",
      " 279501.38  53512.46 124474.92  35288.79  67171.79  23948.33 112995.69\n",
      "  36734.92  26861.96  40634.1   43924.83  50657.08  34008.36  65678.46\n",
      "  62232.96 193700.62  39350.   136332.71]\n"
     ]
    }
   ],
   "source": [
    "print(y_pred) "
   ]
  },
  {
   "cell_type": "code",
   "execution_count": 65,
   "metadata": {},
   "outputs": [
    {
     "name": "stdout",
     "output_type": "stream",
     "text": [
      "0.791350679320661\n"
     ]
    }
   ],
   "source": [
    "from sklearn.metrics import r2_score\n",
    "print(r2_score(y_test,y_pred))"
   ]
  }
 ],
 "metadata": {
  "kernelspec": {
   "display_name": "Python 3",
   "language": "python",
   "name": "python3"
  },
  "language_info": {
   "codemirror_mode": {
    "name": "ipython",
    "version": 3
   },
   "file_extension": ".py",
   "mimetype": "text/x-python",
   "name": "python",
   "nbconvert_exporter": "python",
   "pygments_lexer": "ipython3",
   "version": "3.12.0"
  }
 },
 "nbformat": 4,
 "nbformat_minor": 2
}
